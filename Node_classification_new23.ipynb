{
  "cells": [
    {
      "cell_type": "markdown",
      "metadata": {
        "id": "view-in-github",
        "colab_type": "text"
      },
      "source": [
        "<a href=\"https://colab.research.google.com/github/VinaySingh561/GraphML/blob/main/Node_classification_new23.ipynb\" target=\"_parent\"><img src=\"https://colab.research.google.com/assets/colab-badge.svg\" alt=\"Open In Colab\"/></a>"
      ]
    },
    {
      "cell_type": "code",
      "execution_count": 1,
      "metadata": {
        "colab": {
          "base_uri": "https://localhost:8080/",
          "height": 884
        },
        "id": "hFwLefIsTwZL",
        "outputId": "5e325ccd-dc77-400d-eaf5-07def1e992ff"
      },
      "outputs": [
        {
          "output_type": "stream",
          "name": "stdout",
          "text": [
            "Looking in indexes: https://pypi.org/simple, https://us-python.pkg.dev/colab-wheels/public/simple/\n",
            "Looking in links: https://data.pyg.org/whl/torch-1.13.1+cu116.html\n",
            "Collecting torch-scatter\n",
            "  Downloading https://data.pyg.org/whl/torch-1.13.0%2Bcu116/torch_scatter-2.1.0%2Bpt113cu116-cp38-cp38-linux_x86_64.whl (9.4 MB)\n",
            "\u001b[2K     \u001b[90m━━━━━━━━━━━━━━━━━━━━━━━━━━━━━━━━━━━━━━━━\u001b[0m \u001b[32m9.4/9.4 MB\u001b[0m \u001b[31m52.7 MB/s\u001b[0m eta \u001b[36m0:00:00\u001b[0m\n",
            "\u001b[?25hCollecting torch-sparse\n",
            "  Downloading https://data.pyg.org/whl/torch-1.13.0%2Bcu116/torch_sparse-0.6.16%2Bpt113cu116-cp38-cp38-linux_x86_64.whl (4.5 MB)\n",
            "\u001b[2K     \u001b[90m━━━━━━━━━━━━━━━━━━━━━━━━━━━━━━━━━━━━━━━━\u001b[0m \u001b[32m4.5/4.5 MB\u001b[0m \u001b[31m49.6 MB/s\u001b[0m eta \u001b[36m0:00:00\u001b[0m\n",
            "\u001b[?25hRequirement already satisfied: scipy in /usr/local/lib/python3.8/dist-packages (from torch-sparse) (1.10.1)\n",
            "Requirement already satisfied: numpy<1.27.0,>=1.19.5 in /usr/local/lib/python3.8/dist-packages (from scipy->torch-sparse) (1.22.4)\n",
            "Installing collected packages: torch-scatter, torch-sparse\n",
            "Successfully installed torch-scatter-2.1.0+pt113cu116 torch-sparse-0.6.16+pt113cu116\n",
            "Looking in indexes: https://pypi.org/simple, https://us-python.pkg.dev/colab-wheels/public/simple/\n",
            "Collecting torch-geometric\n",
            "  Downloading torch_geometric-2.2.0.tar.gz (564 kB)\n",
            "\u001b[2K     \u001b[90m━━━━━━━━━━━━━━━━━━━━━━━━━━━━━━━━━━━━━━━\u001b[0m \u001b[32m565.0/565.0 KB\u001b[0m \u001b[31m7.3 MB/s\u001b[0m eta \u001b[36m0:00:00\u001b[0m\n",
            "\u001b[?25h  Preparing metadata (setup.py) ... \u001b[?25l\u001b[?25hdone\n",
            "Requirement already satisfied: tqdm in /usr/local/lib/python3.8/dist-packages (from torch-geometric) (4.64.1)\n",
            "Requirement already satisfied: numpy in /usr/local/lib/python3.8/dist-packages (from torch-geometric) (1.22.4)\n",
            "Requirement already satisfied: scipy in /usr/local/lib/python3.8/dist-packages (from torch-geometric) (1.10.1)\n",
            "Requirement already satisfied: jinja2 in /usr/local/lib/python3.8/dist-packages (from torch-geometric) (3.1.2)\n",
            "Requirement already satisfied: requests in /usr/local/lib/python3.8/dist-packages (from torch-geometric) (2.25.1)\n",
            "Requirement already satisfied: pyparsing in /usr/local/lib/python3.8/dist-packages (from torch-geometric) (3.0.9)\n",
            "Requirement already satisfied: scikit-learn in /usr/local/lib/python3.8/dist-packages (from torch-geometric) (1.2.1)\n",
            "Collecting psutil>=5.8.0\n",
            "  Downloading psutil-5.9.4-cp36-abi3-manylinux_2_12_x86_64.manylinux2010_x86_64.manylinux_2_17_x86_64.manylinux2014_x86_64.whl (280 kB)\n",
            "\u001b[2K     \u001b[90m━━━━━━━━━━━━━━━━━━━━━━━━━━━━━━━━━━━━━━\u001b[0m \u001b[32m280.2/280.2 KB\u001b[0m \u001b[31m25.0 MB/s\u001b[0m eta \u001b[36m0:00:00\u001b[0m\n",
            "\u001b[?25hRequirement already satisfied: MarkupSafe>=2.0 in /usr/local/lib/python3.8/dist-packages (from jinja2->torch-geometric) (2.1.2)\n",
            "Requirement already satisfied: certifi>=2017.4.17 in /usr/local/lib/python3.8/dist-packages (from requests->torch-geometric) (2022.12.7)\n",
            "Requirement already satisfied: urllib3<1.27,>=1.21.1 in /usr/local/lib/python3.8/dist-packages (from requests->torch-geometric) (1.26.14)\n",
            "Requirement already satisfied: idna<3,>=2.5 in /usr/local/lib/python3.8/dist-packages (from requests->torch-geometric) (2.10)\n",
            "Requirement already satisfied: chardet<5,>=3.0.2 in /usr/local/lib/python3.8/dist-packages (from requests->torch-geometric) (4.0.0)\n",
            "Requirement already satisfied: joblib>=1.1.1 in /usr/local/lib/python3.8/dist-packages (from scikit-learn->torch-geometric) (1.2.0)\n",
            "Requirement already satisfied: threadpoolctl>=2.0.0 in /usr/local/lib/python3.8/dist-packages (from scikit-learn->torch-geometric) (3.1.0)\n",
            "Building wheels for collected packages: torch-geometric\n",
            "  Building wheel for torch-geometric (setup.py) ... \u001b[?25l\u001b[?25hdone\n",
            "  Created wheel for torch-geometric: filename=torch_geometric-2.2.0-py3-none-any.whl size=773302 sha256=5dd1bb15a5931cfd31e2feebd4350a3e42dfee1a5575e9b683bc8f28628ccfaa\n",
            "  Stored in directory: /root/.cache/pip/wheels/59/a3/20/198928106d3169865ae73afcbd3d3d1796cf6b429b55c65378\n",
            "Successfully built torch-geometric\n",
            "Installing collected packages: psutil, torch-geometric\n",
            "  Attempting uninstall: psutil\n",
            "    Found existing installation: psutil 5.4.8\n",
            "    Uninstalling psutil-5.4.8:\n",
            "      Successfully uninstalled psutil-5.4.8\n",
            "Successfully installed psutil-5.9.4 torch-geometric-2.2.0\n"
          ]
        },
        {
          "output_type": "display_data",
          "data": {
            "application/vnd.colab-display-data+json": {
              "pip_warning": {
                "packages": [
                  "psutil"
                ]
              }
            }
          },
          "metadata": {}
        },
        {
          "output_type": "display_data",
          "data": {
            "text/plain": [
              "<IPython.core.display.HTML object>"
            ],
            "text/html": [
              "<style>.container { width:90% !important; }</style>"
            ]
          },
          "metadata": {}
        }
      ],
      "source": [
        "# !pip install deeprobust\n",
        "# !conda install pytorch torchvision torchaudio -c pytorch\n",
        "import torch\n",
        "# print(torch.__version__)\n",
        "!pip install torch-scatter torch-sparse -f https://data.pyg.org/whl/torch-{torch.__version__}.html\n",
        "!pip install torch-geometric\n",
        "%load_ext autoreload\n",
        "%autoreload 2\n",
        "%matplotlib inline\n",
        "from IPython.core.display import display, HTML\n",
        "display(HTML(\"<style>.container { width:90% !important; }</style>\"))\n",
        "\n",
        "from networkx.generators.random_graphs import erdos_renyi_graph\n",
        "from networkx.generators.random_graphs import barabasi_albert_graph\n",
        "from networkx.generators.community import stochastic_block_model\n",
        "from networkx.generators.random_graphs import watts_strogatz_graph\n",
        "from networkx.generators.community import random_partition_graph\n",
        "\n",
        "import networkx as nx\n",
        "import numpy as np\n",
        "import matplotlib.pyplot as plt\n",
        "\n",
        "import math\n",
        "from tqdm import tqdm\n",
        "import seaborn as sns\n",
        "from sklearn.decomposition import FactorAnalysis\n",
        "\n",
        "import random\n",
        "\n"
      ]
    },
    {
      "cell_type": "code",
      "execution_count": 2,
      "metadata": {
        "id": "dYuSfuanVdLy"
      },
      "outputs": [],
      "source": [
        "import os\n",
        "import collections\n",
        "import numpy as np\n",
        "import pandas as pd\n",
        "import matplotlib.pyplot as plt\n",
        "import seaborn as sns\n",
        "import scipy.sparse as sp\n",
        "import torch\n",
        "from torch import Tensor\n",
        "import torch_geometric\n",
        "from torch_geometric.utils import to_networkx\n",
        "from torch_geometric.datasets import Planetoid\n",
        "import networkx as nx\n",
        "from networkx.algorithms import community\n",
        "device = torch.device('cuda' if torch.cuda.is_available() else 'cpu')\n",
        "data_dir = \"./data\"\n",
        "os.makedirs(data_dir, exist_ok=True)"
      ]
    },
    {
      "cell_type": "code",
      "execution_count": 3,
      "metadata": {
        "colab": {
          "base_uri": "https://localhost:8080/",
          "height": 52
        },
        "id": "rn5YNSFOog43",
        "outputId": "61688e08-9d89-4c7d-90ae-149a1f1d231d"
      },
      "outputs": [
        {
          "output_type": "stream",
          "name": "stdout",
          "text": [
            "The autoreload extension is already loaded. To reload it, use:\n",
            "  %reload_ext autoreload\n"
          ]
        },
        {
          "output_type": "display_data",
          "data": {
            "text/plain": [
              "<IPython.core.display.HTML object>"
            ],
            "text/html": [
              "<style>.container { width:90% !important; }</style>"
            ]
          },
          "metadata": {}
        }
      ],
      "source": [
        "import numpy\n",
        "import torch\n",
        "%load_ext autoreload\n",
        "%autoreload 2\n",
        "\n",
        "%matplotlib inline\n",
        "from IPython.core.display import display, HTML\n",
        "display(HTML(\"<style>.container { width:90% !important; }</style>\"))\n",
        "\n",
        "\n",
        "\n",
        "from networkx.generators.random_graphs import erdos_renyi_graph\n",
        "from networkx.generators.random_graphs import barabasi_albert_graph\n",
        "from networkx.generators.community import stochastic_block_model\n",
        "from networkx.generators.random_graphs import watts_strogatz_graph\n",
        "from networkx.generators.community import random_partition_graph\n",
        "import networkx as nx\n",
        "import numpy as np\n",
        "import matplotlib.pyplot as plt\n",
        "\n",
        "import math\n",
        "from tqdm import tqdm\n",
        "import seaborn as sns\n",
        "from sklearn.decomposition import FactorAnalysis\n",
        "import random"
      ]
    },
    {
      "cell_type": "code",
      "execution_count": 4,
      "metadata": {
        "id": "1tCWvnpupR37"
      },
      "outputs": [],
      "source": [
        "from random import sample"
      ]
    },
    {
      "cell_type": "code",
      "execution_count": 5,
      "metadata": {
        "id": "cKccKEapUqT4"
      },
      "outputs": [],
      "source": [
        "# from deeprobust.graph.data import Dataset"
      ]
    },
    {
      "cell_type": "code",
      "execution_count": 6,
      "metadata": {
        "id": "l0NC0KhdT8JA"
      },
      "outputs": [],
      "source": [
        "from scipy.sparse import csr_matrix\n",
        "from scipy.sparse import csgraph\n",
        "from scipy.sparse.linalg import inv"
      ]
    },
    {
      "cell_type": "code",
      "execution_count": 7,
      "metadata": {
        "colab": {
          "base_uri": "https://localhost:8080/",
          "height": 36
        },
        "id": "7J04AkDioGuX",
        "outputId": "9c557d44-1a5e-4dfe-97a8-2ea23f5772ac"
      },
      "outputs": [
        {
          "output_type": "execute_result",
          "data": {
            "text/plain": [
              "'/content'"
            ],
            "application/vnd.google.colaboratory.intrinsic+json": {
              "type": "string"
            }
          },
          "metadata": {},
          "execution_count": 7
        }
      ],
      "source": [
        "import os\n",
        "os.getcwd()"
      ]
    },
    {
      "cell_type": "code",
      "execution_count": 8,
      "metadata": {
        "colab": {
          "base_uri": "https://localhost:8080/",
          "height": 36
        },
        "id": "aoeWH74RoGuY",
        "outputId": "39f2ad72-0240-4bc6-ddf9-d188ee236fee"
      },
      "outputs": [
        {
          "output_type": "execute_result",
          "data": {
            "text/plain": [
              "'/content/Texas'"
            ],
            "application/vnd.google.colaboratory.intrinsic+json": {
              "type": "string"
            }
          },
          "metadata": {},
          "execution_count": 8
        }
      ],
      "source": [
        "dataset = os.path.join(os.getcwd(),'Texas')\n",
        "dataset"
      ]
    },
    {
      "cell_type": "code",
      "execution_count": 9,
      "metadata": {
        "colab": {
          "base_uri": "https://localhost:8080/"
        },
        "id": "Ch6kq6OxM8Ur",
        "outputId": "429e1802-3a13-417c-b160-c0c4bcd97ad1"
      },
      "outputs": [
        {
          "output_type": "stream",
          "name": "stderr",
          "text": [
            "Downloading https://raw.githubusercontent.com/graphdml-uiuc-jlu/geom-gcn/master/new_data/texas/out1_node_feature_label.txt\n",
            "Downloading https://raw.githubusercontent.com/graphdml-uiuc-jlu/geom-gcn/master/new_data/texas/out1_graph_edges.txt\n",
            "Downloading https://raw.githubusercontent.com/graphdml-uiuc-jlu/geom-gcn/master/splits/texas_split_0.6_0.2_0.npz\n",
            "Downloading https://raw.githubusercontent.com/graphdml-uiuc-jlu/geom-gcn/master/splits/texas_split_0.6_0.2_1.npz\n",
            "Downloading https://raw.githubusercontent.com/graphdml-uiuc-jlu/geom-gcn/master/splits/texas_split_0.6_0.2_2.npz\n",
            "Downloading https://raw.githubusercontent.com/graphdml-uiuc-jlu/geom-gcn/master/splits/texas_split_0.6_0.2_3.npz\n",
            "Downloading https://raw.githubusercontent.com/graphdml-uiuc-jlu/geom-gcn/master/splits/texas_split_0.6_0.2_4.npz\n",
            "Downloading https://raw.githubusercontent.com/graphdml-uiuc-jlu/geom-gcn/master/splits/texas_split_0.6_0.2_5.npz\n",
            "Downloading https://raw.githubusercontent.com/graphdml-uiuc-jlu/geom-gcn/master/splits/texas_split_0.6_0.2_6.npz\n",
            "Downloading https://raw.githubusercontent.com/graphdml-uiuc-jlu/geom-gcn/master/splits/texas_split_0.6_0.2_7.npz\n",
            "Downloading https://raw.githubusercontent.com/graphdml-uiuc-jlu/geom-gcn/master/splits/texas_split_0.6_0.2_8.npz\n",
            "Downloading https://raw.githubusercontent.com/graphdml-uiuc-jlu/geom-gcn/master/splits/texas_split_0.6_0.2_9.npz\n"
          ]
        },
        {
          "output_type": "stream",
          "name": "stdout",
          "text": [
            "Data(x=[183, 1703], edge_index=[2, 325], y=[183], train_mask=[183, 10], val_mask=[183, 10], test_mask=[183, 10])\n",
            "Homophilic ratio : 0.10769230872392654\n",
            "Sparsity of original graph : 0.0195160031225605\n",
            "torch.Size([183, 1703]) torch.Size([183, 183])\n",
            "torch.Size([183, 1703]) torch.Size([183, 183])\n"
          ]
        },
        {
          "output_type": "stream",
          "name": "stderr",
          "text": [
            "Processing...\n",
            "Done!\n"
          ]
        }
      ],
      "source": [
        "from torch_geometric.datasets import WebKB\n",
        "from torch_geometric.utils import to_dense_adj,homophily\n",
        "\n",
        "\n",
        "dataset = WebKB(root='/Texas',name='Texas')\n",
        "print(dataset[0])\n",
        "\n",
        "edge_list = dataset[0].edge_index\n",
        "NO_OF_EDGES = edge_list.shape[1]\n",
        "labels = dataset[0].y\n",
        "\n",
        "print(\"Homophilic ratio : \" + str(homophily(edge_list,labels,method='edge')))\n",
        "\n",
        "\n",
        "adj = to_dense_adj(dataset[0].edge_index)\n",
        "adj = adj[0]\n",
        "\n",
        "labels = labels.numpy()\n",
        "\n",
        "X = dataset[0].x\n",
        "X = X.to_dense()\n",
        "N = X.shape[0]\n",
        "NO_OF_CLASSES = 5\n",
        "\n",
        "sparsity_original = 2*NO_OF_EDGES/(N*(N-1))\n",
        "print(\"Sparsity of original graph : \" + str(sparsity_original))\n",
        "\n",
        "\n",
        "print(X.shape, adj.shape)\n",
        "\n",
        "nn = int(1*N)\n",
        "X = X[:nn,:]\n",
        "adj = adj[:nn,:nn]\n",
        "labels = labels[:nn]\n",
        "print(X.shape,adj.shape)\n",
        "\n",
        "# plot_graph(dataset[0])\n"
      ]
    },
    {
      "cell_type": "code",
      "execution_count": 9,
      "metadata": {
        "id": "jPYnNp6moGua"
      },
      "outputs": [],
      "source": []
    },
    {
      "cell_type": "code",
      "execution_count": 10,
      "metadata": {
        "colab": {
          "base_uri": "https://localhost:8080/"
        },
        "id": "STsLjDMMN2bk",
        "outputId": "5e9eb323-2fe1-4674-e400-42f0ee80cc0a"
      },
      "outputs": [
        {
          "output_type": "stream",
          "name": "stdout",
          "text": [
            "torch.Size([183, 183])\n"
          ]
        }
      ],
      "source": [
        "def get_laplacian(adj):\n",
        "    b=torch.ones(adj.shape[0])\n",
        "    return torch.diag(adj@b)-adj\n",
        "\n",
        "theta = get_laplacian(adj)\n",
        "print(theta.shape)\n"
      ]
    },
    {
      "cell_type": "code",
      "execution_count": 11,
      "metadata": {
        "colab": {
          "base_uri": "https://localhost:8080/"
        },
        "id": "BxPj9tu-YZjX",
        "outputId": "f38afc56-67ad-433d-af38-919ef38474f9"
      },
      "outputs": [
        {
          "output_type": "stream",
          "name": "stdout",
          "text": [
            "5 183\n"
          ]
        }
      ],
      "source": [
        "# dataset_name = 'flickr' \n",
        "\n",
        "# data = Dataset(root='', name=dataset_name, setting='gcn',seed=10)\n",
        "\n",
        "# adj, features, labels = data.adj, data.features, data.labels\n",
        "# idx_train, idx_val, idx_test = data.idx_train, data.idx_val, data.idx_test\n",
        "\n",
        "# theta = csgraph.laplacian(adj).tocsr()\n",
        "features = X.numpy()\n",
        "NO_OF_NODES = X.shape[0]\n",
        "# NO_OF_CLASSES =  7\n",
        "\n",
        "\n",
        "print(NO_OF_CLASSES,NO_OF_NODES)"
      ]
    },
    {
      "cell_type": "code",
      "execution_count": 12,
      "metadata": {
        "id": "YiN9k3_MueR-"
      },
      "outputs": [],
      "source": [
        "def convertScipyToTensor(coo):\n",
        "  try:\n",
        "    coo = coo.tocoo()\n",
        "  except:\n",
        "    coo = coo\n",
        "  values = coo.data\n",
        "  indices = np.vstack((coo.row, coo.col))\n",
        "\n",
        "  i = torch.LongTensor(indices)\n",
        "  v = torch.FloatTensor(values)\n",
        "  shape = coo.shape\n",
        "\n",
        "  return torch.sparse.FloatTensor(i, v, torch.Size(shape))"
      ]
    },
    {
      "cell_type": "code",
      "execution_count": 13,
      "metadata": {
        "id": "Xla8XecUULkS"
      },
      "outputs": [],
      "source": [
        "from scipy.sparse import random\n",
        "from scipy.sparse.linalg import norm\n",
        "from scipy.sparse import csr_matrix\n",
        "\n",
        "p = X.shape[0]\n",
        "k = int(p*0.5)\n",
        "n = X.shape[1]\n",
        "lambda_param = 100\n",
        "beta_param = 50\n",
        "alpha_param = 100\n",
        "gamma_param = 100\n",
        "lr = 1e-5\n",
        "thresh = 1e-10\n",
        "\n",
        "from scipy.sparse import random\n",
        "from scipy.stats import rv_continuous\n",
        "class CustomDistribution(rv_continuous):\n",
        "    def _rvs(self,  size=None, random_state=None):\n",
        "        return random_state.standard_normal(size)\n",
        "temp = CustomDistribution(seed=1)\n",
        "temp2 = temp()  # get a frozen version of the distribution\n",
        "X_tilde = random(k, n, density=0.25, random_state=1, data_rvs=temp2.rvs)\n",
        "C = random(p, k, density=0.25, random_state=1, data_rvs=temp2.rvs)\n",
        "\n"
      ]
    },
    {
      "cell_type": "code",
      "execution_count": 14,
      "metadata": {
        "id": "zni5bnJP9WF7"
      },
      "outputs": [],
      "source": [
        "def experiment(lambda_param,beta_param,alpha_param,gamma_param,C,X_tilde,theta,X):\n",
        "      p = X.shape[0]\n",
        "      k = int(p*0.5)\n",
        "      n = X.shape[1]\n",
        "      ones = csr_matrix(np.ones((k,k)))\n",
        "      ones = convertScipyToTensor(ones)\n",
        "      ones = ones.to_dense()\n",
        "      J = np.outer(np.ones(k), np.ones(k))/k\n",
        "      J = csr_matrix(J)\n",
        "      J = convertScipyToTensor(J)\n",
        "      J = J.to_dense()\n",
        "      zeros = csr_matrix(np.zeros((p,k)))\n",
        "      zeros = convertScipyToTensor(zeros)\n",
        "      zeros = zeros.to_dense()\n",
        "      X_tilde = convertScipyToTensor(X_tilde)\n",
        "      X_tilde = X_tilde.to_dense()\n",
        "      C = convertScipyToTensor(C)\n",
        "      C = C.to_dense()\n",
        "      eye = torch.eye(k)\n",
        "      try:\n",
        "        theta = convertScipyToTensor(theta)\n",
        "      except:\n",
        "        theta = theta\n",
        "      try:\n",
        "        X = convertScipyToTensor(X)\n",
        "        X = X.to_dense()\n",
        "      except:\n",
        "        X = X\n",
        "\n",
        "      if(torch.cuda.is_available()):\n",
        "        # print(\"yes\")\n",
        "        X_tilde = X_tilde.cuda()\n",
        "        C = C.cuda()\n",
        "        theta = theta.cuda()\n",
        "        X = X.cuda()\n",
        "        J = J.cuda()\n",
        "        zeros = zeros.cuda()\n",
        "        ones = ones.cuda()\n",
        "        eye = eye.cuda()\n",
        "\n",
        "      def update(X_tilde,C,i):\n",
        "          global L\n",
        "          thetaC = theta@C\n",
        "          CT = torch.transpose(C,0,1)\n",
        "          X_tildeT = torch.transpose(X_tilde,0,1)\n",
        "          CX_tilde = C@X_tilde\n",
        "          t1 = CT@thetaC + J\n",
        "          term_bracket = torch.linalg.pinv(t1)\n",
        "          thetacX_tilde = thetaC@(X_tilde)\n",
        "          \n",
        "          L = 1/k\n",
        "\n",
        "          t1 = -2*gamma_param*(thetaC@term_bracket)\n",
        "          t2 = alpha_param*(CX_tilde-X)@(X_tildeT)\n",
        "          t3 = 2*thetacX_tilde@(X_tildeT)\n",
        "          t4 = lambda_param*(C@ones)\n",
        "          t5 = 2*beta_param*(thetaC@CT@thetaC)\n",
        "          T2 = (t1+t2+t3+t4+t5)/L\n",
        "          Cnew = (C-T2).maximum(zeros)\n",
        "          t1 = CT@thetaC*(2/alpha_param)\n",
        "          t2 = CT@C\n",
        "          t1 = torch.linalg.pinv(t1+t2)\n",
        "          t1 = t1@CT\n",
        "          t1 = t1@X\n",
        "          X_tilde_new = t1\n",
        "          Cnew[Cnew<thresh] = thresh\n",
        "          for i in range(len(Cnew)):\n",
        "              Cnew[i] = Cnew[i]/torch.linalg.norm(Cnew[i],1)\n",
        "          for i in range(len(X_tilde_new)):\n",
        "            X_tilde_new[i] = X_tilde_new[i]/torch.linalg.norm(X_tilde_new[i],1)\n",
        "          return X_tilde_new,Cnew\n",
        "\n",
        "\n",
        "      for i in tqdm(range(20)):\n",
        "          X_tilde,C = update(X_tilde,C,i)\n",
        "    \n",
        "      return X_tilde,C\n",
        "\n",
        "\n"
      ]
    },
    {
      "cell_type": "code",
      "execution_count": 15,
      "metadata": {
        "id": "XtUTjCIMxzoE"
      },
      "outputs": [],
      "source": [
        "def experiment2(lambda_param,beta_param,alpha_param,gamma_param,C,X_tilde,theta,X):\n",
        "      p = X.shape[0]\n",
        "      k = int(p*0.1)\n",
        "      n = X.shape[1]\n",
        "      ones = csr_matrix(np.ones((k,k)))\n",
        "      ones = convertScipyToTensor(ones)\n",
        "      ones = ones.to_dense()\n",
        "      J = np.outer(np.ones(k), np.ones(k))/k\n",
        "      J = csr_matrix(J)\n",
        "      J = convertScipyToTensor(J)\n",
        "      J = J.to_dense()\n",
        "      zeros = csr_matrix(np.zeros((p,k)))\n",
        "      zeros = convertScipyToTensor(zeros)\n",
        "      zeros = zeros.to_dense()\n",
        "      X_tilde = convertScipyToTensor(X_tilde)\n",
        "      X_tilde = X_tilde.to_dense()\n",
        "      C = convertScipyToTensor(C)\n",
        "      C = C.to_dense()\n",
        "      eye = torch.eye(k)\n",
        "      try:\n",
        "        theta = convertScipyToTensor(theta)\n",
        "      except:\n",
        "        theta = theta\n",
        "      try:\n",
        "        X = convertScipyToTensor(X)\n",
        "        X = X.to_dense()\n",
        "      except:\n",
        "        X = X\n",
        "\n",
        "      if(torch.cuda.is_available()):\n",
        "        # print(\"yes\")\n",
        "        X_tilde = X_tilde.cuda()\n",
        "        C = C.cuda()\n",
        "        theta = theta.cuda()\n",
        "        X = X.cuda()\n",
        "        J = J.cuda()\n",
        "        zeros = zeros.cuda()\n",
        "        ones = ones.cuda()\n",
        "        eye = eye.cuda()\n",
        "\n",
        "      def update(X_tilde,C,i):\n",
        "          global L\n",
        "          thetaC = theta@C\n",
        "          CT = torch.transpose(C,0,1)\n",
        "          X_tildeT = torch.transpose(X_tilde,0,1)\n",
        "          CX_tilde = C@X_tilde\n",
        "          t1 = CT@thetaC + J\n",
        "          term_bracket = torch.linalg.pinv(t1)\n",
        "          thetacX_tilde = thetaC@(X_tilde)\n",
        "          CTX = CT@X\n",
        "          \n",
        "          L = 1/k\n",
        "\n",
        "          t1 = -2*gamma_param*(thetaC@term_bracket)\n",
        "          t2 = alpha_param*X@((X_tilde - CTX).T)\n",
        "          # t3 = 2*thetacX_tilde@(X_tildeT)\n",
        "          t3 = zeros\n",
        "          t4 = lambda_param*(C@ones)\n",
        "          t5 = 2*beta_param*(thetaC@CT@thetaC)\n",
        "          T2 = (t1+t2+t3+t4+t5)/L\n",
        "          Cnew = (C-T2).maximum(zeros)\n",
        "          t1 = CT@thetaC*(2/alpha_param)\n",
        "          t2 = CT@C\n",
        "          t1 = torch.linalg.pinv(t1+t2)\n",
        "          t1 = t1@CT\n",
        "          t1 = t1@X\n",
        "          X_tilde_new = CTX\n",
        "          Cnew[Cnew<thresh] = thresh\n",
        "          for i in range(len(Cnew)):\n",
        "              Cnew[i] = Cnew[i]/torch.linalg.norm(Cnew[i],1)\n",
        "          for i in range(len(X_tilde_new)):\n",
        "            X_tilde_new[i] = X_tilde_new[i]/torch.linalg.norm(X_tilde_new[i],1)\n",
        "          return X_tilde_new,Cnew\n",
        "\n",
        "\n",
        "      for i in tqdm(range(25)):\n",
        "          X_tilde,C = update(X_tilde,C,i)\n",
        "    \n",
        "      return X_tilde,C\n",
        "\n",
        "\n"
      ]
    },
    {
      "cell_type": "code",
      "execution_count": 16,
      "metadata": {
        "id": "haiUWegMoGuh"
      },
      "outputs": [],
      "source": [
        "def experiment3(lambda_param,beta_param,alpha_param,gamma_param,C,X_tilde,theta,X):\n",
        "      p = X.shape[0]\n",
        "      k = int(p*0.1)\n",
        "      n = X.shape[1]\n",
        "      ones = csr_matrix(np.ones((k,k)))\n",
        "      ones = convertScipyToTensor(ones)\n",
        "      ones = ones.to_dense()\n",
        "      J = np.outer(np.ones(k), np.ones(k))/k\n",
        "      J = csr_matrix(J)\n",
        "      J = convertScipyToTensor(J)\n",
        "      J = J.to_dense()\n",
        "      zeros = csr_matrix(np.zeros((p,k)))\n",
        "      zeros = convertScipyToTensor(zeros)\n",
        "      zeros = zeros.to_dense()\n",
        "      X_tilde = convertScipyToTensor(X_tilde)\n",
        "      X_tilde = X_tilde.to_dense()\n",
        "      C = convertScipyToTensor(C)\n",
        "      C = C.to_dense()\n",
        "      eye = torch.eye(k)\n",
        "      try:\n",
        "        theta = convertScipyToTensor(theta)\n",
        "      except:\n",
        "        theta = theta\n",
        "      try:\n",
        "        X = convertScipyToTensor(X)\n",
        "        X = X.to_dense()\n",
        "      except:\n",
        "        X = X\n",
        "\n",
        "      if(torch.cuda.is_available()):\n",
        "        # print(\"yes\")\n",
        "        X_tilde = X_tilde.cuda()\n",
        "        C = C.cuda()\n",
        "        theta = theta.cuda()\n",
        "        X = X.cuda()\n",
        "        J = J.cuda()\n",
        "        zeros = zeros.cuda()\n",
        "        ones = ones.cuda()\n",
        "        eye = eye.cuda()\n",
        "\n",
        "      def update(X_tilde,C,i):\n",
        "          global L,adj\n",
        "          thetaC = theta@C\n",
        "          CT = torch.transpose(C,0,1)\n",
        "          X_tildeT = torch.transpose(X_tilde,0,1)\n",
        "          CX_tilde = C@X_tilde\n",
        "          t1 = CT@thetaC + J\n",
        "          term_bracket = torch.linalg.pinv(t1)\n",
        "          thetacX_tilde = thetaC@(X_tilde)\n",
        "          \n",
        "          L = 1/k\n",
        "\n",
        "          t1 = -2*gamma_param*(thetaC@term_bracket)\n",
        "          t2 = alpha_param*(CX_tilde-X)@(X_tildeT)\n",
        "          t3 = 2*thetacX_tilde@(X_tildeT)\n",
        "          t4 = lambda_param*(C@ones)\n",
        "          t5 = 2*beta_param*(adj@C)\n",
        "          T2 = (t1+t2+t3+t4+t5)/L\n",
        "          Cnew = (C-T2).maximum(zeros)\n",
        "          t1 = CT@thetaC*(2/alpha_param)\n",
        "          t2 = CT@C\n",
        "          t1 = torch.linalg.pinv(t1+t2)\n",
        "          t1 = t1@CT\n",
        "          t1 = t1@X\n",
        "          X_tilde_new = t1\n",
        "          Cnew[Cnew<thresh] = thresh\n",
        "          for i in range(len(Cnew)):\n",
        "              Cnew[i] = Cnew[i]/torch.linalg.norm(Cnew[i],1)\n",
        "          for i in range(len(X_tilde_new)):\n",
        "            X_tilde_new[i] = X_tilde_new[i]/torch.linalg.norm(X_tilde_new[i],1)\n",
        "          return X_tilde_new,Cnew\n",
        "\n",
        "\n",
        "      for i in tqdm(range(15)):\n",
        "          X_tilde,C = update(X_tilde,C,i)\n",
        "    \n",
        "      return X_tilde,C\n",
        "\n",
        "\n"
      ]
    },
    {
      "cell_type": "code",
      "execution_count": 17,
      "metadata": {
        "id": "rnKqrqAS9qmw"
      },
      "outputs": [],
      "source": [
        "import torch\n",
        "import torch.nn.functional as F\n",
        "from torch_geometric.nn import GCNConv\n",
        "\n",
        "\n",
        "class Net(torch.nn.Module):\n",
        "    def __init__(self):\n",
        "        super(Net, self).__init__()\n",
        "        self.conv1 = GCNConv(X.shape[1], 64)\n",
        "        self.conv2 = GCNConv(64, NO_OF_CLASSES)\n",
        "\n",
        "    def reset_parameters(self):\n",
        "        self.conv1.reset_parameters()\n",
        "        self.conv2.reset_parameters()\n",
        "\n",
        "    def forward(self, x, edge_index):\n",
        "\n",
        "        #print(\"Checking 1: x\", x.shape, \"Edge index:\", edge_index.shape)\n",
        "        x = self.conv1(x, edge_index)\n",
        "        #print(\"Checking 2: convolution done, new x:\", x.shape)\n",
        "        x = F.relu(x)\n",
        "        #print(\"Checking 3: x\", x.shape, \"training:\", self.training)\n",
        "        x = F.dropout(x, training=self.training)\n",
        "        #print(\"Checking 4: dropout done new x\", x.shape, \"Edge index:\", edge_index.shape)\n",
        "        x = self.conv2(x, edge_index)\n",
        "        #print(\"Checking 5: x\", x.shape)\n",
        "\n",
        "        return F.log_softmax(x, dim=1)\n",
        "\n"
      ]
    },
    {
      "cell_type": "code",
      "execution_count": 18,
      "metadata": {
        "id": "StlALggCABGw"
      },
      "outputs": [],
      "source": [
        "from random import sample"
      ]
    },
    {
      "cell_type": "code",
      "execution_count": 19,
      "metadata": {
        "id": "78DErAOL9vVT"
      },
      "outputs": [],
      "source": [
        "from torch_geometric.utils import dense_to_sparse,homophily\n",
        "\n",
        "def get_accuracy(C_0,L,X_t_0):\n",
        "    global labels, NO_OF_CLASSES,k\n",
        "    t=[]\n",
        "    for i in [1,2,3,4,5,6,7,8,9,10]: \n",
        "        C_0_new=np.zeros(C_0.shape)\n",
        "        for i in range(C_0.shape[0]):\n",
        "            C_0_new[i][np.argmax(C_0[i])]=1\n",
        "        # print(C_0_new)\n",
        "        # C_0_new=C_0\n",
        "        from scipy import sparse\n",
        "        #Lc=C_0.T@L@C_0\n",
        "        Lc=C_0_new.T@L@C_0_new\n",
        "        # print(\"L:\", Lc.shape)\n",
        "        # Lc=L_new\n",
        "        #print(Lc)\n",
        "        Wc=(-1*Lc)*(1-np.eye(Lc.shape[0]))\n",
        "        # print(\"W:\", Wc.shape)\n",
        "        Wc[Wc<0.1]=0\n",
        "        Wc=sparse.csr_matrix(Wc)\n",
        "        Wc = Wc.tocoo()\n",
        "        row = torch.from_numpy(Wc.row).to(torch.long)\n",
        "        col = torch.from_numpy(Wc.col).to(torch.long)\n",
        "        edge_index_coarsen2 = torch.stack([row, col], dim=0)\n",
        "        #print(\"edgecoarsen:\", edge_index_coarsen2.shape)\n",
        "        edge_weight = torch.from_numpy(Wc.data)\n",
        "        #print(\"edgeweight:\", edge_weight.shape)\n",
        "        def one_hot(x, class_count):\n",
        "            return torch.eye(class_count)[x, :]\n",
        "\n",
        "        device = torch.device('cpu')\n",
        "        labels=labels\n",
        "        Y = labels\n",
        "        #print(\"Y:\", Y.shape)\n",
        "        Y = one_hot(Y,NO_OF_CLASSES)\n",
        "        # NO_OF_CLASSES=Y.shape[1]\n",
        "        P=np.linalg.pinv(C_0_new)\n",
        "        labels_coarse = torch.argmax(torch.sparse.mm(torch.Tensor(P).double() , Y.double()).double() , 1)\n",
        "        #print(\"Lables:\", labels_coarse.shape)\n",
        "\n",
        "        #torch.Tensor(C2)@X\n",
        "        # Wc[Wc<0.01]=0\n",
        "        Wc=Wc.toarray()\n",
        "        adjtemp = torch.tensor(Wc)\n",
        "        edge_list_temp = dense_to_sparse(adjtemp)[0]\n",
        "        # print(edge_list_temp)\n",
        "        # print(labels_coarse)\n",
        "        print(\"Homophilic ratio : \" + str(homophily(edge_list_temp,labels_coarse,method='edge')))\n",
        "        number_of_edges = edge_list_temp.shape[1]\n",
        "        n = labels_coarse.shape[0]\n",
        "        sparsity = 2*number_of_edges/(n*(n-1))\n",
        "        print(\"Sparsity : \" + str(sparsity))\n",
        "    \n",
        "        #\n",
        "        C2=np.linalg.pinv(C_0_new)\n",
        "        model=Net().to(device)\n",
        "        device = torch.device('cpu')\n",
        "        lr=0.01\n",
        "        decay=0.0001\n",
        "        try:\n",
        "          X=np.array(features.todense())\n",
        "        except:\n",
        "          X = np.array(features)\n",
        "        #print(\"X:\",X.shape)\n",
        "        optimizer = torch.optim.Adam(model.parameters(), lr=lr, weight_decay=decay)\n",
        "        # criterion=torch.nn.CrossEntropyLoss()\n",
        "        x=sample(range(0, int(k)), k)\n",
        "      \n",
        "        from datetime import datetime\n",
        "        Xt=P@X\n",
        "        # Xt=X_t_0\n",
        "        def train():\n",
        "            model.train()\n",
        "            optimizer.zero_grad()\n",
        "            out = model(torch.Tensor(Xt).to(device),edge_index_coarsen2)\n",
        "            loss = F.nll_loss(out[x], labels_coarse[x])\n",
        "            loss.backward()\n",
        "            optimizer.step()\n",
        "            return loss\n",
        "        now1 = datetime.now()\n",
        "        losses=[]\n",
        "        for epoch in range(100):\n",
        "            loss=train()\n",
        "            losses.append(loss)\n",
        "            if(epoch%100==0):\n",
        "                print(f'Epoch: {epoch:03d},loss: {loss:.4f}')\n",
        "        now2 = datetime.now()        \n",
        "        pred=model(torch.Tensor(Xt).to(device),edge_index_coarsen2).argmax(dim=1)        \n",
        "        def train_accuracy():\n",
        "            model.eval()\n",
        "            correct = (pred[x] == labels_coarse[x]).sum()\n",
        "            acc = int(correct) /len(x)\n",
        "            return acc\n",
        "    \n",
        "        t+=[(now2-now1).total_seconds()]\n",
        "\n",
        "        zz=sample(range(0, int(NO_OF_NODES)), NO_OF_NODES)\n",
        "        Wc=sparse.csr_matrix(adj)\n",
        "        Wc = Wc.tocoo()\n",
        "        row = torch.from_numpy(Wc.row).to(torch.long)\n",
        "        col = torch.from_numpy(Wc.col).to(torch.long)\n",
        "        edge_index_coarsen = torch.stack([row, col], dim=0)\n",
        "        edge_weight = torch.from_numpy(Wc.data)\n",
        "        pred=model(torch.Tensor(X),edge_index_coarsen).argmax(dim=1)\n",
        "        pred=np.array(pred)\n",
        "        correct =(pred[zz]==labels[zz]).sum()\n",
        "        acc = int(correct) /NO_OF_NODES\n",
        "        return acc\n",
        "\n"
      ]
    },
    {
      "cell_type": "code",
      "execution_count": 20,
      "metadata": {
        "id": "K4ABGaC4oGul"
      },
      "outputs": [],
      "source": [
        "from torch_geometric.utils import dense_to_sparse,homophily\n",
        "\n",
        "def getSparsityAndHomophily(C,theta):\n",
        "    theta = C.T@theta@C\n",
        "    adjtemp = -theta\n",
        "    for i in range(adjtemp.shape[0]):\n",
        "      adjtemp[i,i]=0\n",
        "    adjtemp[adjtemp<0.01]=0\n",
        "    temp = dense_to_sparse(adjtemp)\n",
        "    edge_list_temp = temp[0]\n",
        "    # ytemp = temp[1]\n",
        "    # P = torch.linalg.pinv(C)\n",
        "    # labels = \n",
        "    # # print(edge_list)\n",
        "    number_of_edges = edge_list_temp.shape[1]\n",
        "    # n = adjtemp.shape[0]\n",
        "\n",
        "    # print(\"Homophilic ratio : \" + str(homophily(edge_list_temp,ytemp,method='node')))\n",
        "    sparsity = 2*number_of_edges/(n*(n-1))\n",
        "    print(\"Sparsity : \" + str(sparsity))\n",
        "    "
      ]
    },
    {
      "cell_type": "code",
      "execution_count": 21,
      "metadata": {
        "colab": {
          "base_uri": "https://localhost:8080/",
          "height": 373
        },
        "id": "ejPLG3L9zYrc",
        "outputId": "f85f62bf-aebe-4a7c-d651-32e4f94b96a9"
      },
      "outputs": [
        {
          "output_type": "stream",
          "name": "stderr",
          "text": [
            "100%|██████████| 20/20 [00:04<00:00,  4.15it/s]\n"
          ]
        },
        {
          "output_type": "error",
          "ename": "RuntimeError",
          "evalue": "ignored",
          "traceback": [
            "\u001b[0;31m---------------------------------------------------------------------------\u001b[0m",
            "\u001b[0;31mRuntimeError\u001b[0m                              Traceback (most recent call last)",
            "\u001b[0;32m<ipython-input-21-a65694362f4e>\u001b[0m in \u001b[0;36m<module>\u001b[0;34m\u001b[0m\n\u001b[1;32m     40\u001b[0m \u001b[0;34m\u001b[0m\u001b[0m\n\u001b[1;32m     41\u001b[0m \u001b[0;34m\u001b[0m\u001b[0m\n\u001b[0;32m---> 42\u001b[0;31m           \u001b[0mgetSparsityAndHomophily\u001b[0m\u001b[0;34m(\u001b[0m\u001b[0mC_0\u001b[0m\u001b[0;34m,\u001b[0m\u001b[0mtheta\u001b[0m\u001b[0;34m)\u001b[0m\u001b[0;34m\u001b[0m\u001b[0;34m\u001b[0m\u001b[0m\n\u001b[0m\u001b[1;32m     43\u001b[0m \u001b[0;34m\u001b[0m\u001b[0m\n\u001b[1;32m     44\u001b[0m           \u001b[0mC_0\u001b[0m \u001b[0;34m=\u001b[0m \u001b[0mC_0\u001b[0m\u001b[0;34m.\u001b[0m\u001b[0mcpu\u001b[0m\u001b[0;34m(\u001b[0m\u001b[0;34m)\u001b[0m\u001b[0;34m.\u001b[0m\u001b[0mdetach\u001b[0m\u001b[0;34m(\u001b[0m\u001b[0;34m)\u001b[0m\u001b[0;34m.\u001b[0m\u001b[0mnumpy\u001b[0m\u001b[0;34m(\u001b[0m\u001b[0;34m)\u001b[0m\u001b[0;34m\u001b[0m\u001b[0;34m\u001b[0m\u001b[0m\n",
            "\u001b[0;32m<ipython-input-20-d827885cc9fd>\u001b[0m in \u001b[0;36mgetSparsityAndHomophily\u001b[0;34m(C, theta)\u001b[0m\n\u001b[1;32m      2\u001b[0m \u001b[0;34m\u001b[0m\u001b[0m\n\u001b[1;32m      3\u001b[0m \u001b[0;32mdef\u001b[0m \u001b[0mgetSparsityAndHomophily\u001b[0m\u001b[0;34m(\u001b[0m\u001b[0mC\u001b[0m\u001b[0;34m,\u001b[0m\u001b[0mtheta\u001b[0m\u001b[0;34m)\u001b[0m\u001b[0;34m:\u001b[0m\u001b[0;34m\u001b[0m\u001b[0;34m\u001b[0m\u001b[0m\n\u001b[0;32m----> 4\u001b[0;31m     \u001b[0mtheta\u001b[0m \u001b[0;34m=\u001b[0m \u001b[0mC\u001b[0m\u001b[0;34m.\u001b[0m\u001b[0mT\u001b[0m\u001b[0;34m@\u001b[0m\u001b[0mtheta\u001b[0m\u001b[0;34m@\u001b[0m\u001b[0mC\u001b[0m\u001b[0;34m\u001b[0m\u001b[0;34m\u001b[0m\u001b[0m\n\u001b[0m\u001b[1;32m      5\u001b[0m     \u001b[0madjtemp\u001b[0m \u001b[0;34m=\u001b[0m \u001b[0;34m-\u001b[0m\u001b[0mtheta\u001b[0m\u001b[0;34m\u001b[0m\u001b[0;34m\u001b[0m\u001b[0m\n\u001b[1;32m      6\u001b[0m     \u001b[0;32mfor\u001b[0m \u001b[0mi\u001b[0m \u001b[0;32min\u001b[0m \u001b[0mrange\u001b[0m\u001b[0;34m(\u001b[0m\u001b[0madjtemp\u001b[0m\u001b[0;34m.\u001b[0m\u001b[0mshape\u001b[0m\u001b[0;34m[\u001b[0m\u001b[0;36m0\u001b[0m\u001b[0;34m]\u001b[0m\u001b[0;34m)\u001b[0m\u001b[0;34m:\u001b[0m\u001b[0;34m\u001b[0m\u001b[0;34m\u001b[0m\u001b[0m\n",
            "\u001b[0;31mRuntimeError\u001b[0m: Expected all tensors to be on the same device, but found at least two devices, cuda:0 and cpu! (when checking argument for argument mat2 in method wrapper_mm)"
          ]
        }
      ],
      "source": [
        "import seaborn as sns\n",
        "import matplotlib.pylab as plt\n",
        "from torch_geometric.utils import dense_to_sparse,homophily\n",
        "        # sns.heatmap(C_0.T@C_0)\n",
        "        \n",
        "\n",
        "#0.0001,0.0001,10,0.0001\n",
        "for lambda_param in [0.0001, 0.001, 0.01, 0.1, 1, 10, 100]:\n",
        "  for beta_param in [0.0001, 0.001, 0.01, 0.1, 1, 10,100]:\n",
        "    for alpha_param in [0.0001, 0.001, 0.01, 0.1, 1,10,100]:\n",
        "      for gamma_param in [0.0001, 0.001, 0.01, 0.1, 1,10,100]:\n",
        "\n",
        "        av = []\n",
        "\n",
        "        for _ in range(3):\n",
        "\n",
        "          X_tilde = random(k, n, density=0.15, random_state=1, data_rvs=temp2.rvs)\n",
        "          C = random(p, k, density=0.15, random_state=1, data_rvs=temp2.rvs)\n",
        "\n",
        "          # try:\n",
        "\n",
        "          X_t_0,C_0 = experiment(lambda_param,beta_param,alpha_param,gamma_param,C,X_tilde,theta,X)\n",
        "          L = theta\n",
        "          \n",
        "          # Ltemp = (C_0.T)@theta@C_0\n",
        "          # adjtemp = -Ltemp\n",
        "          # for i in range(adjtemp.shape[0]):\n",
        "          #   adjtemp[i,i]=0\n",
        "          # temp = dense_to_sparse(adjtemp)\n",
        "          # edge_list_temp = temp[0]\n",
        "          # ytemp = temp[1]\n",
        "          # # print(edge_list)\n",
        "          # number_of_edges = edge_list_temp.shape[0]\n",
        "          # n = adjtemp.shape[0]\n",
        "\n",
        "          # print(\"Homophilic ratio : \" + str(homophily(edge_list_temp,ytemp)))\n",
        "          # sparsity = 2*number_of_edges/(n*(n-1))\n",
        "         \n",
        "\n",
        "\n",
        "\n",
        "          getSparsityAndHomophily(C_0,theta)\n",
        "\n",
        "          C_0 = C_0.cpu().detach().numpy()\n",
        "          X_t_0 = X_t_0.cpu().detach().numpy()\n",
        "          C_t_0 = C_0.T\n",
        "          \n",
        "          try:\n",
        "            L = L.cpu().detach().numpy()\n",
        "          except:\n",
        "            L = L\n",
        "          \n",
        "          acc = get_accuracy(C_0,L,X_t_0)\n",
        "          av.append(acc)\n",
        "          # if(acc < 0.80):\n",
        "          #   break\n",
        "          print(\"Accuracy = \" + str(acc) + \" \" + str(lambda_param)+\" \" + str(beta_param)+\" \"+str(alpha_param)+\" \"+str(gamma_param))\n",
        "\n",
        "          # except:\n",
        "\n",
        "              # print(\"SVD DID NOT CONVERGE\")\n",
        "\n",
        "        print(\"Average accuracy = \" + str(np.mean(av)*100)  + \" +/- \" + str(np.std(av)*100)) \n",
        "     \n",
        "\n",
        "    # X_t_0 = X_tilde\n",
        "    # X = X.cpu().detach().numpy()"
      ]
    },
    {
      "cell_type": "markdown",
      "source": [
        "### Data Exploration"
      ],
      "metadata": {
        "id": "xA2fvVvJrhCx"
      }
    },
    {
      "cell_type": "code",
      "execution_count": 22,
      "metadata": {
        "colab": {
          "base_uri": "https://localhost:8080/"
        },
        "id": "Q5lc4VbnoGun",
        "outputId": "140ab1d2-8d30-4e19-e8de-a29ea600d476"
      },
      "outputs": [
        {
          "output_type": "execute_result",
          "data": {
            "text/plain": [
              "torch_geometric.datasets.webkb.WebKB"
            ]
          },
          "metadata": {},
          "execution_count": 22
        }
      ],
      "source": [
        "type(dataset)"
      ]
    },
    {
      "cell_type": "code",
      "source": [
        "# Print some dataset statistics\n",
        "print('Number of graphs:', len(dataset))\n",
        "print('Number of features:', dataset.num_features)\n",
        "print('Number of classes:', dataset.num_classes)\n",
        "\n",
        "# Visualize one of the graphs using NetworkX\n",
        "G = nx.Graph()\n",
        "G.add_nodes_from(range(dataset[0].num_nodes))\n",
        "G.add_edges_from(dataset[0].edge_index.t().tolist())\n",
        "\n",
        "plt.figure(figsize=(6, 6))\n",
        "nx.draw(G, node_size=10)\n",
        "plt.show()"
      ],
      "metadata": {
        "colab": {
          "base_uri": "https://localhost:8080/",
          "height": 515
        },
        "id": "iFs5L7qaqeMb",
        "outputId": "7b1082f6-f730-464b-b41f-0da158a63106"
      },
      "execution_count": 23,
      "outputs": [
        {
          "output_type": "stream",
          "name": "stdout",
          "text": [
            "Number of graphs: 1\n",
            "Number of features: 1703\n",
            "Number of classes: 5\n"
          ]
        },
        {
          "output_type": "display_data",
          "data": {
            "text/plain": [
              "<Figure size 432x432 with 1 Axes>"
            ],
            "image/png": "[encoded data removed]"
          },
          "metadata": {}
        }
      ]
    },
    {
      "cell_type": "code",
      "source": [
        "# Access the feature matrix of the first graph in the dataset\n",
        "first_graph_features = dataset[0].x\n",
        "\n",
        "print(first_graph_features.shape)\n"
      ],
      "metadata": {
        "colab": {
          "base_uri": "https://localhost:8080/"
        },
        "id": "THn6PgnwrB1f",
        "outputId": "b3abaa18-1436-4908-dd7a-1241c90bb788"
      },
      "execution_count": 24,
      "outputs": [
        {
          "output_type": "stream",
          "name": "stdout",
          "text": [
            "torch.Size([183, 1703])\n"
          ]
        }
      ]
    },
    {
      "cell_type": "code",
      "source": [
        "plt.hist(first_graph_features[:,:])"
      ],
      "metadata": {
        "colab": {
          "base_uri": "https://localhost:8080/",
          "height": 439
        },
        "id": "-OZVUdESsPcw",
        "outputId": "c14d3638-d9e9-460a-e55d-42bad89fd312"
      },
      "execution_count": 25,
      "outputs": [
        {
          "output_type": "execute_result",
          "data": {
            "text/plain": [
              "(array([[1657.,    0.,    0., ...,    0.,    0.,   46.],\n",
              "        [1472.,    0.,    0., ...,    0.,    0.,  231.],\n",
              "        [1677.,    0.,    0., ...,    0.,    0.,   26.],\n",
              "        ...,\n",
              "        [1613.,    0.,    0., ...,    0.,    0.,   90.],\n",
              "        [1633.,    0.,    0., ...,    0.,    0.,   70.],\n",
              "        [1658.,    0.,    0., ...,    0.,    0.,   45.]]),\n",
              " array([0. , 0.1, 0.2, 0.3, 0.4, 0.5, 0.6, 0.7, 0.8, 0.9, 1. ],\n",
              "       dtype=float32),\n",
              " <a list of 183 BarContainer objects>)"
            ]
          },
          "metadata": {},
          "execution_count": 25
        },
        {
          "output_type": "display_data",
          "data": {
            "text/plain": [
              "<Figure size 432x288 with 1 Axes>"
            ],
            "image/png": "[encoded data removed]"
          },
          "metadata": {
            "needs_background": "light"
          }
        }
      ]
    },
    {
      "cell_type": "code",
      "source": [
        "def count(x):\n",
        "  count  = 0\n",
        "  for i in range(len(x)):\n",
        "    if x[i]==1:\n",
        "      count += 1\n",
        "  return count   "
      ],
      "metadata": {
        "id": "vC6ZL1p4sYvw"
      },
      "execution_count": 26,
      "outputs": []
    },
    {
      "cell_type": "markdown",
      "source": [
        "### 183 Nodes"
      ],
      "metadata": {
        "id": "C9wW1cM3209J"
      }
    },
    {
      "cell_type": "code",
      "source": [
        "import matplotlib.pyplot as plt\n",
        "dict = {}\n",
        "for i in range(len(first_graph_features[:,0])):\n",
        "  dict[str(i)] = count(first_graph_features[i,:])"
      ],
      "metadata": {
        "id": "o7N5lW58sors"
      },
      "execution_count": 27,
      "outputs": []
    },
    {
      "cell_type": "code",
      "source": [
        "import pandas as pd\n",
        "feature_data = pd.DataFrame(dict, index = [\"Vinay\"])"
      ],
      "metadata": {
        "id": "r23aZEt8s18w"
      },
      "execution_count": 28,
      "outputs": []
    },
    {
      "cell_type": "code",
      "source": [
        "(feature_data.iloc[0]/feature_data.iloc[0].sum()).plot()"
      ],
      "metadata": {
        "colab": {
          "base_uri": "https://localhost:8080/",
          "height": 282
        },
        "id": "pXTOCPOst0SS",
        "outputId": "dfc2837f-be10-4c65-8d06-9b0696c8f316"
      },
      "execution_count": 29,
      "outputs": [
        {
          "output_type": "execute_result",
          "data": {
            "text/plain": [
              "<AxesSubplot:>"
            ]
          },
          "metadata": {},
          "execution_count": 29
        },
        {
          "output_type": "display_data",
          "data": {
            "text/plain": [
              "<Figure size 432x288 with 1 Axes>"
            ],
            "image/png": "[encoded data removed]"
          },
          "metadata": {
            "needs_background": "light"
          }
        }
      ]
    },
    {
      "cell_type": "code",
      "source": [
        "probabilty_data_feature = feature_data.iloc[0]/feature_data.iloc[0].sum()"
      ],
      "metadata": {
        "id": "w27WoGsryPNR"
      },
      "execution_count": 30,
      "outputs": []
    },
    {
      "cell_type": "code",
      "source": [
        "probabilty_data_feature"
      ],
      "metadata": {
        "colab": {
          "base_uri": "https://localhost:8080/"
        },
        "id": "jKUVu4dtzu-W",
        "outputId": "43012e39-8c0a-4b8b-badd-85d04d768b2f"
      },
      "execution_count": 31,
      "outputs": [
        {
          "output_type": "execute_result",
          "data": {
            "text/plain": [
              "0      0.003013\n",
              "1      0.015132\n",
              "2      0.001703\n",
              "3      0.005044\n",
              "4      0.005764\n",
              "         ...   \n",
              "178    0.005044\n",
              "179    0.005175\n",
              "180    0.005895\n",
              "181    0.004585\n",
              "182    0.002948\n",
              "Name: Vinay, Length: 183, dtype: float64"
            ]
          },
          "metadata": {},
          "execution_count": 31
        }
      ]
    },
    {
      "cell_type": "code",
      "source": [
        "feature_data.head()"
      ],
      "metadata": {
        "colab": {
          "base_uri": "https://localhost:8080/",
          "height": 110
        },
        "id": "4TICB_lx2OGN",
        "outputId": "fedc0d06-f1da-4024-f3e2-8e7dcd1f658b"
      },
      "execution_count": 32,
      "outputs": [
        {
          "output_type": "execute_result",
          "data": {
            "text/plain": [
              "        0    1   2   3   4    5   6   7   8   9  ...  173  174  175  176  177  \\\n",
              "Vinay  46  231  26  77  88  100  81  56  93  46  ...   20  210   68   18   89   \n",
              "\n",
              "       178  179  180  181  182  \n",
              "Vinay   77   79   90   70   45  \n",
              "\n",
              "[1 rows x 183 columns]"
            ],
            "text/html": [
              "\n",
              "  <div id=\"df-e2d488b0-6d8a-4a6f-a6ab-7c2dd6c8c3fe\">\n",
              "    <div class=\"colab-df-container\">\n",
              "      <div>\n",
              "<style scoped>\n",
              "    .dataframe tbody tr th:only-of-type {\n",
              "        vertical-align: middle;\n",
              "    }\n",
              "\n",
              "    .dataframe tbody tr th {\n",
              "        vertical-align: top;\n",
              "    }\n",
              "\n",
              "    .dataframe thead th {\n",
              "        text-align: right;\n",
              "    }\n",
              "</style>\n",
              "<table border=\"1\" class=\"dataframe\">\n",
              "  <thead>\n",
              "    <tr style=\"text-align: right;\">\n",
              "      <th></th>\n",
              "      <th>0</th>\n",
              "      <th>1</th>\n",
              "      <th>2</th>\n",
              "      <th>3</th>\n",
              "      <th>4</th>\n",
              "      <th>5</th>\n",
              "      <th>6</th>\n",
              "      <th>7</th>\n",
              "      <th>8</th>\n",
              "      <th>9</th>\n",
              "      <th>...</th>\n",
              "      <th>173</th>\n",
              "      <th>174</th>\n",
              "      <th>175</th>\n",
              "      <th>176</th>\n",
              "      <th>177</th>\n",
              "      <th>178</th>\n",
              "      <th>179</th>\n",
              "      <th>180</th>\n",
              "      <th>181</th>\n",
              "      <th>182</th>\n",
              "    </tr>\n",
              "  </thead>\n",
              "  <tbody>\n",
              "    <tr>\n",
              "      <th>Vinay</th>\n",
              "      <td>46</td>\n",
              "      <td>231</td>\n",
              "      <td>26</td>\n",
              "      <td>77</td>\n",
              "      <td>88</td>\n",
              "      <td>100</td>\n",
              "      <td>81</td>\n",
              "      <td>56</td>\n",
              "      <td>93</td>\n",
              "      <td>46</td>\n",
              "      <td>...</td>\n",
              "      <td>20</td>\n",
              "      <td>210</td>\n",
              "      <td>68</td>\n",
              "      <td>18</td>\n",
              "      <td>89</td>\n",
              "      <td>77</td>\n",
              "      <td>79</td>\n",
              "      <td>90</td>\n",
              "      <td>70</td>\n",
              "      <td>45</td>\n",
              "    </tr>\n",
              "  </tbody>\n",
              "</table>\n",
              "<p>1 rows × 183 columns</p>\n",
              "</div>\n",
              "      <button class=\"colab-df-convert\" onclick=\"convertToInteractive('df-e2d488b0-6d8a-4a6f-a6ab-7c2dd6c8c3fe')\"\n",
              "              title=\"Convert this dataframe to an interactive table.\"\n",
              "              style=\"display:none;\">\n",
              "        \n",
              "  <svg xmlns=\"http://www.w3.org/2000/svg\" height=\"24px\"viewBox=\"0 0 24 24\"\n",
              "       width=\"24px\">\n",
              "    <path d=\"M0 0h24v24H0V0z\" fill=\"none\"/>\n",
              "    <path d=\"M18.56 5.44l.94 2.06.94-2.06 2.06-.94-2.06-.94-.94-2.06-.94 2.06-2.06.94zm-11 1L8.5 8.5l.94-2.06 2.06-.94-2.06-.94L8.5 2.5l-.94 2.06-2.06.94zm10 10l.94 2.06.94-2.06 2.06-.94-2.06-.94-.94-2.06-.94 2.06-2.06.94z\"/><path d=\"M17.41 7.96l-1.37-1.37c-.4-.4-.92-.59-1.43-.59-.52 0-1.04.2-1.43.59L10.3 9.45l-7.72 7.72c-.78.78-.78 2.05 0 2.83L4 21.41c.39.39.9.59 1.41.59.51 0 1.02-.2 1.41-.59l7.78-7.78 2.81-2.81c.8-.78.8-2.07 0-2.86zM5.41 20L4 18.59l7.72-7.72 1.47 1.35L5.41 20z\"/>\n",
              "  </svg>\n",
              "      </button>\n",
              "      \n",
              "  <style>\n",
              "    .colab-df-container {\n",
              "      display:flex;\n",
              "      flex-wrap:wrap;\n",
              "      gap: 12px;\n",
              "    }\n",
              "\n",
              "    .colab-df-convert {\n",
              "      background-color: #E8F0FE;\n",
              "      border: none;\n",
              "      border-radius: 50%;\n",
              "      cursor: pointer;\n",
              "      display: none;\n",
              "      fill: #1967D2;\n",
              "      height: 32px;\n",
              "      padding: 0 0 0 0;\n",
              "      width: 32px;\n",
              "    }\n",
              "\n",
              "    .colab-df-convert:hover {\n",
              "      background-color: #E2EBFA;\n",
              "      box-shadow: 0px 1px 2px rgba(60, 64, 67, 0.3), 0px 1px 3px 1px rgba(60, 64, 67, 0.15);\n",
              "      fill: #174EA6;\n",
              "    }\n",
              "\n",
              "    [theme=dark] .colab-df-convert {\n",
              "      background-color: #3B4455;\n",
              "      fill: #D2E3FC;\n",
              "    }\n",
              "\n",
              "    [theme=dark] .colab-df-convert:hover {\n",
              "      background-color: #434B5C;\n",
              "      box-shadow: 0px 1px 3px 1px rgba(0, 0, 0, 0.15);\n",
              "      filter: drop-shadow(0px 1px 2px rgba(0, 0, 0, 0.3));\n",
              "      fill: #FFFFFF;\n",
              "    }\n",
              "  </style>\n",
              "\n",
              "      <script>\n",
              "        const buttonEl =\n",
              "          document.querySelector('#df-e2d488b0-6d8a-4a6f-a6ab-7c2dd6c8c3fe button.colab-df-convert');\n",
              "        buttonEl.style.display =\n",
              "          google.colab.kernel.accessAllowed ? 'block' : 'none';\n",
              "\n",
              "        async function convertToInteractive(key) {\n",
              "          const element = document.querySelector('#df-e2d488b0-6d8a-4a6f-a6ab-7c2dd6c8c3fe');\n",
              "          const dataTable =\n",
              "            await google.colab.kernel.invokeFunction('convertToInteractive',\n",
              "                                                     [key], {});\n",
              "          if (!dataTable) return;\n",
              "\n",
              "          const docLinkHtml = 'Like what you see? Visit the ' +\n",
              "            '<a target=\"_blank\" href=https://colab.research.google.com/notebooks/data_table.ipynb>data table notebook</a>'\n",
              "            + ' to learn more about interactive tables.';\n",
              "          element.innerHTML = '';\n",
              "          dataTable['output_type'] = 'display_data';\n",
              "          await google.colab.output.renderOutput(dataTable, element);\n",
              "          const docLink = document.createElement('div');\n",
              "          docLink.innerHTML = docLinkHtml;\n",
              "          element.appendChild(docLink);\n",
              "        }\n",
              "      </script>\n",
              "    </div>\n",
              "  </div>\n",
              "  "
            ]
          },
          "metadata": {},
          "execution_count": 32
        }
      ]
    },
    {
      "cell_type": "markdown",
      "source": [
        "### 1703 features at every node"
      ],
      "metadata": {
        "id": "7BwmSuEv3Ami"
      }
    },
    {
      "cell_type": "code",
      "source": [
        "dict_1 = {}\n",
        "for i in range(len(first_graph_features[0,:])):\n",
        "  dict_1[str(i)] = count(first_graph_features[:,i])\n",
        "\n",
        "import pandas as pd\n",
        "feature_dataset = pd.DataFrame(dict_1, index = [\"Vinay_features\"])  \n",
        "feature_dataset.head()"
      ],
      "metadata": {
        "colab": {
          "base_uri": "https://localhost:8080/",
          "height": 110
        },
        "id": "cHLk1-Xd2rmL",
        "outputId": "88b31a17-61d9-4fc8-c4d9-813e57e442e3"
      },
      "execution_count": 33,
      "outputs": [
        {
          "output_type": "execute_result",
          "data": {
            "text/plain": [
              "                0  1  2  3  4  5  6  7  8  9  ...  1693  1694  1695  1696  \\\n",
              "Vinay_features  1  1  4  2  9  3  5  4  5  0  ...     1     3    10     1   \n",
              "\n",
              "                1697  1698  1699  1700  1701  1702  \n",
              "Vinay_features     5     3     2     4     6     0  \n",
              "\n",
              "[1 rows x 1703 columns]"
            ],
            "text/html": [
              "\n",
              "  <div id=\"df-758dc1d8-e5c9-4852-9b5b-95014152918a\">\n",
              "    <div class=\"colab-df-container\">\n",
              "      <div>\n",
              "<style scoped>\n",
              "    .dataframe tbody tr th:only-of-type {\n",
              "        vertical-align: middle;\n",
              "    }\n",
              "\n",
              "    .dataframe tbody tr th {\n",
              "        vertical-align: top;\n",
              "    }\n",
              "\n",
              "    .dataframe thead th {\n",
              "        text-align: right;\n",
              "    }\n",
              "</style>\n",
              "<table border=\"1\" class=\"dataframe\">\n",
              "  <thead>\n",
              "    <tr style=\"text-align: right;\">\n",
              "      <th></th>\n",
              "      <th>0</th>\n",
              "      <th>1</th>\n",
              "      <th>2</th>\n",
              "      <th>3</th>\n",
              "      <th>4</th>\n",
              "      <th>5</th>\n",
              "      <th>6</th>\n",
              "      <th>7</th>\n",
              "      <th>8</th>\n",
              "      <th>9</th>\n",
              "      <th>...</th>\n",
              "      <th>1693</th>\n",
              "      <th>1694</th>\n",
              "      <th>1695</th>\n",
              "      <th>1696</th>\n",
              "      <th>1697</th>\n",
              "      <th>1698</th>\n",
              "      <th>1699</th>\n",
              "      <th>1700</th>\n",
              "      <th>1701</th>\n",
              "      <th>1702</th>\n",
              "    </tr>\n",
              "  </thead>\n",
              "  <tbody>\n",
              "    <tr>\n",
              "      <th>Vinay_features</th>\n",
              "      <td>1</td>\n",
              "      <td>1</td>\n",
              "      <td>4</td>\n",
              "      <td>2</td>\n",
              "      <td>9</td>\n",
              "      <td>3</td>\n",
              "      <td>5</td>\n",
              "      <td>4</td>\n",
              "      <td>5</td>\n",
              "      <td>0</td>\n",
              "      <td>...</td>\n",
              "      <td>1</td>\n",
              "      <td>3</td>\n",
              "      <td>10</td>\n",
              "      <td>1</td>\n",
              "      <td>5</td>\n",
              "      <td>3</td>\n",
              "      <td>2</td>\n",
              "      <td>4</td>\n",
              "      <td>6</td>\n",
              "      <td>0</td>\n",
              "    </tr>\n",
              "  </tbody>\n",
              "</table>\n",
              "<p>1 rows × 1703 columns</p>\n",
              "</div>\n",
              "      <button class=\"colab-df-convert\" onclick=\"convertToInteractive('df-758dc1d8-e5c9-4852-9b5b-95014152918a')\"\n",
              "              title=\"Convert this dataframe to an interactive table.\"\n",
              "              style=\"display:none;\">\n",
              "        \n",
              "  <svg xmlns=\"http://www.w3.org/2000/svg\" height=\"24px\"viewBox=\"0 0 24 24\"\n",
              "       width=\"24px\">\n",
              "    <path d=\"M0 0h24v24H0V0z\" fill=\"none\"/>\n",
              "    <path d=\"M18.56 5.44l.94 2.06.94-2.06 2.06-.94-2.06-.94-.94-2.06-.94 2.06-2.06.94zm-11 1L8.5 8.5l.94-2.06 2.06-.94-2.06-.94L8.5 2.5l-.94 2.06-2.06.94zm10 10l.94 2.06.94-2.06 2.06-.94-2.06-.94-.94-2.06-.94 2.06-2.06.94z\"/><path d=\"M17.41 7.96l-1.37-1.37c-.4-.4-.92-.59-1.43-.59-.52 0-1.04.2-1.43.59L10.3 9.45l-7.72 7.72c-.78.78-.78 2.05 0 2.83L4 21.41c.39.39.9.59 1.41.59.51 0 1.02-.2 1.41-.59l7.78-7.78 2.81-2.81c.8-.78.8-2.07 0-2.86zM5.41 20L4 18.59l7.72-7.72 1.47 1.35L5.41 20z\"/>\n",
              "  </svg>\n",
              "      </button>\n",
              "      \n",
              "  <style>\n",
              "    .colab-df-container {\n",
              "      display:flex;\n",
              "      flex-wrap:wrap;\n",
              "      gap: 12px;\n",
              "    }\n",
              "\n",
              "    .colab-df-convert {\n",
              "      background-color: #E8F0FE;\n",
              "      border: none;\n",
              "      border-radius: 50%;\n",
              "      cursor: pointer;\n",
              "      display: none;\n",
              "      fill: #1967D2;\n",
              "      height: 32px;\n",
              "      padding: 0 0 0 0;\n",
              "      width: 32px;\n",
              "    }\n",
              "\n",
              "    .colab-df-convert:hover {\n",
              "      background-color: #E2EBFA;\n",
              "      box-shadow: 0px 1px 2px rgba(60, 64, 67, 0.3), 0px 1px 3px 1px rgba(60, 64, 67, 0.15);\n",
              "      fill: #174EA6;\n",
              "    }\n",
              "\n",
              "    [theme=dark] .colab-df-convert {\n",
              "      background-color: #3B4455;\n",
              "      fill: #D2E3FC;\n",
              "    }\n",
              "\n",
              "    [theme=dark] .colab-df-convert:hover {\n",
              "      background-color: #434B5C;\n",
              "      box-shadow: 0px 1px 3px 1px rgba(0, 0, 0, 0.15);\n",
              "      filter: drop-shadow(0px 1px 2px rgba(0, 0, 0, 0.3));\n",
              "      fill: #FFFFFF;\n",
              "    }\n",
              "  </style>\n",
              "\n",
              "      <script>\n",
              "        const buttonEl =\n",
              "          document.querySelector('#df-758dc1d8-e5c9-4852-9b5b-95014152918a button.colab-df-convert');\n",
              "        buttonEl.style.display =\n",
              "          google.colab.kernel.accessAllowed ? 'block' : 'none';\n",
              "\n",
              "        async function convertToInteractive(key) {\n",
              "          const element = document.querySelector('#df-758dc1d8-e5c9-4852-9b5b-95014152918a');\n",
              "          const dataTable =\n",
              "            await google.colab.kernel.invokeFunction('convertToInteractive',\n",
              "                                                     [key], {});\n",
              "          if (!dataTable) return;\n",
              "\n",
              "          const docLinkHtml = 'Like what you see? Visit the ' +\n",
              "            '<a target=\"_blank\" href=https://colab.research.google.com/notebooks/data_table.ipynb>data table notebook</a>'\n",
              "            + ' to learn more about interactive tables.';\n",
              "          element.innerHTML = '';\n",
              "          dataTable['output_type'] = 'display_data';\n",
              "          await google.colab.output.renderOutput(dataTable, element);\n",
              "          const docLink = document.createElement('div');\n",
              "          docLink.innerHTML = docLinkHtml;\n",
              "          element.appendChild(docLink);\n",
              "        }\n",
              "      </script>\n",
              "    </div>\n",
              "  </div>\n",
              "  "
            ]
          },
          "metadata": {},
          "execution_count": 33
        }
      ]
    },
    {
      "cell_type": "code",
      "source": [
        "probabilty_dataset_feature = feature_dataset.iloc[0]/feature_dataset.iloc[0].sum()"
      ],
      "metadata": {
        "id": "ThIaFmQh8cgz"
      },
      "execution_count": 34,
      "outputs": []
    },
    {
      "cell_type": "code",
      "source": [
        "probabilty_dataset_feature"
      ],
      "metadata": {
        "colab": {
          "base_uri": "https://localhost:8080/"
        },
        "id": "iIr0yRZPrccN",
        "outputId": "b66a493d-3338-474f-d643-6893c15aff64"
      },
      "execution_count": 35,
      "outputs": [
        {
          "output_type": "execute_result",
          "data": {
            "text/plain": [
              "0       0.000066\n",
              "1       0.000066\n",
              "2       0.000262\n",
              "3       0.000131\n",
              "4       0.000590\n",
              "          ...   \n",
              "1698    0.000197\n",
              "1699    0.000131\n",
              "1700    0.000262\n",
              "1701    0.000393\n",
              "1702    0.000000\n",
              "Name: Vinay_features, Length: 1703, dtype: float64"
            ]
          },
          "metadata": {},
          "execution_count": 35
        }
      ]
    },
    {
      "cell_type": "code",
      "source": [
        "probabilty_dataset_feature.values.shape"
      ],
      "metadata": {
        "colab": {
          "base_uri": "https://localhost:8080/"
        },
        "id": "vYFKtw7Rr5E8",
        "outputId": "23c86eb0-e3b4-452a-ac94-ccb8d423b513"
      },
      "execution_count": 39,
      "outputs": [
        {
          "output_type": "execute_result",
          "data": {
            "text/plain": [
              "(1703,)"
            ]
          },
          "metadata": {},
          "execution_count": 39
        }
      ]
    },
    {
      "cell_type": "code",
      "source": [
        "P = np.dot(probabilty_data_feature.values.reshape(-1,1),probabilty_dataset_feature.values.reshape(-1,1).T)"
      ],
      "metadata": {
        "id": "i12_czgusTR6"
      },
      "execution_count": 46,
      "outputs": []
    },
    {
      "cell_type": "code",
      "source": [
        "P.shape"
      ],
      "metadata": {
        "colab": {
          "base_uri": "https://localhost:8080/"
        },
        "id": "lLr7luFxthOg",
        "outputId": "a1edd074-c9ed-404e-d86f-822cb9d834eb"
      },
      "execution_count": 47,
      "outputs": [
        {
          "output_type": "execute_result",
          "data": {
            "text/plain": [
              "(183, 1703)"
            ]
          },
          "metadata": {},
          "execution_count": 47
        }
      ]
    },
    {
      "cell_type": "code",
      "source": [
        "plt.plot(P[150])"
      ],
      "metadata": {
        "colab": {
          "base_uri": "https://localhost:8080/",
          "height": 293
        },
        "id": "dzRvs6-HukDw",
        "outputId": "a11f9cf9-58db-415e-ea7b-0026f90ada89"
      },
      "execution_count": 54,
      "outputs": [
        {
          "output_type": "execute_result",
          "data": {
            "text/plain": [
              "[<matplotlib.lines.Line2D at 0x7fb6434f07c0>]"
            ]
          },
          "metadata": {},
          "execution_count": 54
        },
        {
          "output_type": "display_data",
          "data": {
            "text/plain": [
              "<Figure size 432x288 with 1 Axes>"
            ],
            "image/png": "[encoded data removed]"
          },
          "metadata": {
            "needs_background": "light"
          }
        }
      ]
    },
    {
      "cell_type": "code",
      "source": [
        "#Total Probability\n",
        "P[:].sum()"
      ],
      "metadata": {
        "colab": {
          "base_uri": "https://localhost:8080/"
        },
        "id": "qfXrT6CSvZBx",
        "outputId": "e7edb1f6-0e94-4805-a417-da9d01338dea"
      },
      "execution_count": 55,
      "outputs": [
        {
          "output_type": "execute_result",
          "data": {
            "text/plain": [
              "0.9999999999999998"
            ]
          },
          "metadata": {},
          "execution_count": 55
        }
      ]
    },
    {
      "cell_type": "code",
      "source": [],
      "metadata": {
        "id": "9S4qt7A_v5OC"
      },
      "execution_count": null,
      "outputs": []
    }
  ],
  "metadata": {
    "accelerator": "GPU",
    "colab": {
      "provenance": [],
      "include_colab_link": true
    },
    "gpuClass": "standard",
    "kernelspec": {
      "display_name": "FGC",
      "language": "python",
      "name": "python3"
    },
    "language_info": {
      "codemirror_mode": {
        "name": "ipython",
        "version": 3
      },
      "file_extension": ".py",
      "mimetype": "text/x-python",
      "name": "python",
      "nbconvert_exporter": "python",
      "pygments_lexer": "ipython3",
      "version": "3.10.8"
    },
    "vscode": {
      "interpreter": {
        "hash": "969efddd5922f42744441fca4a7e1e35c9b91771f089e8346c81a80fe202b860"
      }
    }
  },
  "nbformat": 4,
  "nbformat_minor": 0
}